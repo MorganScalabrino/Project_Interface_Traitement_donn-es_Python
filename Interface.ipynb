{
 "cells": [
  {
   "cell_type": "markdown",
   "id": "ff6ae72d-ec0d-4eac-9595-298bba9be3ad",
   "metadata": {},
   "source": [
    "# Interface Graphique : Projet Python"
   ]
  },
  {
   "cell_type": "markdown",
   "id": "0c068c38-58c4-4ce1-895d-83445c7c945d",
   "metadata": {},
   "source": [
    "## Bienvenue dans l'interface utilisateur !\n",
    "\n",
    "---\n",
    "**Avant de commencer :**\n",
    "\n",
    "**Etape 0** : Si vous lancez l'interface pour la première fois veuillez exécuter les codes suivants, sinon reportez vous au prochain paragraphe :"
   ]
  },
  {
   "cell_type": "code",
   "execution_count": null,
   "id": "c4d42013-2a1b-487e-8fb3-176555daf49b",
   "metadata": {},
   "outputs": [],
   "source": [
    "pip install pygenomeviz"
   ]
  },
  {
   "cell_type": "markdown",
   "id": "5f9caec8-7132-4416-b3f7-46f953ed66c5",
   "metadata": {},
   "source": [
    "**Etape 1** : Veuillez lancer ce code qui importe les ```modules``` nécessaires pour ce ```notebook``` :"
   ]
  },
  {
   "cell_type": "code",
   "execution_count": 1,
   "id": "de1ab651-3fce-4f99-93ce-1a91d9e56b54",
   "metadata": {},
   "outputs": [],
   "source": [
    "import ipywidgets as widgets\n",
    "from ipywidgets import interact\n",
    "from IPython.display import HTML"
   ]
  },
  {
   "cell_type": "markdown",
   "id": "8717ee69-ca38-4565-a20c-ddd8d849a403",
   "metadata": {},
   "source": [
    "**Etape 2** : Ce Notebook se compose de deux parties : \n",
    "- Une partie ```Tkinter``` où il vous suffit de lancer une cellule de code pour qu'une interface utilisateur vous permettant d'observer la synténie sur une protéine d'intérêt dans un génome de référence.\n",
    "- Une partie backup où vous pouvez en rentrant vos données sur ce notebook directement ou cas où vous rencontriez des difficultés avec l'interface ```Tkinter```.\n",
    "\n",
    "---"
   ]
  },
  {
   "cell_type": "markdown",
   "id": "c2811527-3b85-4a3c-9d82-b545d1990c38",
   "metadata": {},
   "source": [
    "# Interface Tkinter :"
   ]
  },
  {
   "cell_type": "markdown",
   "id": "acb00d91-3236-4863-b07e-eee66a2ecea5",
   "metadata": {},
   "source": [
    "Veuillez exécuter le code suivant pour faire apparaître l'interface :"
   ]
  },
  {
   "cell_type": "code",
   "execution_count": null,
   "id": "75c48ae4-5248-42a9-ab23-7a3db170137f",
   "metadata": {},
   "outputs": [],
   "source": []
  },
  {
   "cell_type": "markdown",
   "id": "b918bde5-69b4-4c59-8652-e2b6fcc004d2",
   "metadata": {},
   "source": [
    "---"
   ]
  },
  {
   "cell_type": "markdown",
   "id": "86481309-1a15-481f-8d18-8cbba743b92e",
   "metadata": {},
   "source": [
    "# Interface Backup :"
   ]
  },
  {
   "cell_type": "markdown",
   "id": "685a6702-7684-4216-909f-b5456c4248d7",
   "metadata": {},
   "source": [
    "## Selection:"
   ]
  },
  {
   "cell_type": "markdown",
   "id": "4da0bc2c-fef7-473e-9ad5-cad023c2cdd5",
   "metadata": {},
   "source": [
    "Exemple de génome, protéine à utiliser :\n",
    "- Génome : GCF_001900435.1\n",
    "- Protéine : WP_000004024.1"
   ]
  },
  {
   "cell_type": "markdown",
   "id": "c677f7f7-3572-4695-9295-9b15604c456f",
   "metadata": {},
   "source": [
    "---\n",
    "\n",
    "### Sélections de la protéine et du génome :"
   ]
  },
  {
   "cell_type": "markdown",
   "id": "f81ab9d1-82b1-4642-a75d-009d613bc1f7",
   "metadata": {},
   "source": [
    "- #### Protéine :"
   ]
  },
  {
   "cell_type": "code",
   "execution_count": 2,
   "id": "350fec4e-fa59-4b3e-9ba3-ef0762f38df0",
   "metadata": {
    "jupyter": {
     "source_hidden": true
    }
   },
   "outputs": [
    {
     "data": {
      "application/vnd.jupyter.widget-view+json": {
       "model_id": "22781a3f849640b488a44554b7d674f4",
       "version_major": 2,
       "version_minor": 0
      },
      "text/plain": [
       "interactive(children=(Text(value='', description='Proteine:', placeholder='Rentrez un ID de protéine'), Output…"
      ]
     },
     "metadata": {},
     "output_type": "display_data"
    }
   ],
   "source": [
    "selection_prot = widgets.Text(\n",
    "    placeholder='Rentrez un ID de protéine',\n",
    "    description='Proteine:',\n",
    "    disabled=False\n",
    ")\n",
    "def prot(x):\n",
    "    global proteine\n",
    "    proteine = x\n",
    "\n",
    "interact(prot, x = selection_prot);"
   ]
  },
  {
   "cell_type": "markdown",
   "id": "fd673a19-1520-4404-92c2-6fbb702fbd8c",
   "metadata": {},
   "source": [
    "- #### Génome :"
   ]
  },
  {
   "cell_type": "code",
   "execution_count": 3,
   "id": "261dcfae-bfb8-453f-82a2-3015ad30dbf0",
   "metadata": {
    "jupyter": {
     "source_hidden": true
    }
   },
   "outputs": [
    {
     "data": {
      "application/vnd.jupyter.widget-view+json": {
       "model_id": "39aae49371c4409f9c1809089c9644e2",
       "version_major": 2,
       "version_minor": 0
      },
      "text/plain": [
       "interactive(children=(Text(value='', description='Génome:', placeholder='Rentrez un ID de génome'), Output()),…"
      ]
     },
     "metadata": {},
     "output_type": "display_data"
    }
   ],
   "source": [
    "selection_gen = widgets.Text(\n",
    "    placeholder='Rentrez un ID de génome',\n",
    "    description='Génome:',\n",
    "    disabled=False\n",
    ")\n",
    "def gen(x):\n",
    "    global genome\n",
    "    genome = x\n",
    "\n",
    "interact(gen, x = selection_gen);"
   ]
  },
  {
   "cell_type": "markdown",
   "id": "91a411e1-e7dd-43b5-bf85-87af171d8549",
   "metadata": {},
   "source": [
    "---\n",
    "\n",
    "### Sélection de l'OS :"
   ]
  },
  {
   "cell_type": "code",
   "execution_count": 4,
   "id": "518773f7-6c3f-431e-84f1-1ed9d69aae59",
   "metadata": {
    "jupyter": {
     "source_hidden": true
    }
   },
   "outputs": [
    {
     "data": {
      "application/vnd.jupyter.widget-view+json": {
       "model_id": "b71626785b9c45a38c7cdfc97fa2ab00",
       "version_major": 2,
       "version_minor": 0
      },
      "text/plain": [
       "interactive(children=(RadioButtons(description='OS:', options=(('Linux', 'linux'), ('Windows', 'win'), ('MacOS…"
      ]
     },
     "metadata": {},
     "output_type": "display_data"
    }
   ],
   "source": [
    "selection_os = widgets.RadioButtons(\n",
    "    options=[('Linux', 'linux'), ('Windows', 'win'), ('MacOS', 'macosx')],\n",
    "\n",
    "    description='OS:',\n",
    "    disabled=False\n",
    ")\n",
    "def os(x):\n",
    "    global my_os_type\n",
    "    my_os_type = x\n",
    "\n",
    "interact(os, x = selection_os);"
   ]
  },
  {
   "cell_type": "markdown",
   "id": "5b28d28c-e04a-434e-87cb-55301610453e",
   "metadata": {},
   "source": [
    "---\n",
    "\n",
    "## Run:"
   ]
  },
  {
   "cell_type": "code",
   "execution_count": 14,
   "id": "27273d25-6d37-4aec-b07b-3638c155b53b",
   "metadata": {},
   "outputs": [
    {
     "data": {
      "application/vnd.jupyter.widget-view+json": {
       "model_id": "6598e56d35e04984bfad91b0d11a9d88",
       "version_major": 2,
       "version_minor": 0
      },
      "text/plain": [
       "Button(description='Lancer le programme', style=ButtonStyle())"
      ]
     },
     "metadata": {},
     "output_type": "display_data"
    },
    {
     "data": {
      "application/vnd.jupyter.widget-view+json": {
       "model_id": "867c40efd05a47d791850c174206bffc",
       "version_major": 2,
       "version_minor": 0
      },
      "text/plain": [
       "Output()"
      ]
     },
     "metadata": {},
     "output_type": "display_data"
    }
   ],
   "source": [
    "button = widgets.Button(description=\"Lancer le programme\")\n",
    "output = widgets.Output()\n",
    "\n",
    "display(button, output)\n",
    "\n",
    "def on_button_clicked(b):\n",
    "    with output:\n",
    "        %run modulebackup.py $genome $proteine $my_os_type\n",
    "\n",
    "button.on_click(on_button_clicked)"
   ]
  }
 ],
 "metadata": {
  "kernelspec": {
   "display_name": "Python 3 (ipykernel)",
   "language": "python",
   "name": "python3"
  },
  "language_info": {
   "codemirror_mode": {
    "name": "ipython",
    "version": 3
   },
   "file_extension": ".py",
   "mimetype": "text/x-python",
   "name": "python",
   "nbconvert_exporter": "python",
   "pygments_lexer": "ipython3",
   "version": "3.8.16"
  }
 },
 "nbformat": 4,
 "nbformat_minor": 5
}
